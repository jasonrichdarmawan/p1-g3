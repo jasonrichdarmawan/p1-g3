{
 "cells": [
  {
   "cell_type": "code",
   "execution_count": 6,
   "metadata": {},
   "outputs": [
    {
     "name": "stdout",
     "output_type": "stream",
     "text": [
      "[[4.]]\n"
     ]
    }
   ],
   "source": [
    "from sklearn.preprocessing import MinMaxScaler\n",
    "\n",
    "def isolate():\n",
    "    X_train = [[60],\n",
    "               [70]]\n",
    "\n",
    "    scaler = MinMaxScaler(feature_range=(0,1))\n",
    "\n",
    "    scaler.fit(X=X_train)\n",
    "\n",
    "    print(scaler.transform([[100]]))\n",
    "\n",
    "isolate()"
   ]
  },
  {
   "cell_type": "code",
   "execution_count": 7,
   "metadata": {},
   "outputs": [
    {
     "name": "stdout",
     "output_type": "stream",
     "text": [
      "[[7.]]\n"
     ]
    }
   ],
   "source": [
    "from sklearn.preprocessing import StandardScaler\n",
    "\n",
    "def isolate():\n",
    "    X_train = [[60],\n",
    "               [70]]\n",
    "\n",
    "    scaler = StandardScaler()\n",
    "\n",
    "    scaler.fit(X=X_train)\n",
    "\n",
    "    print(scaler.transform([[100]]))\n",
    "\n",
    "isolate()"
   ]
  },
  {
   "cell_type": "code",
   "execution_count": 9,
   "metadata": {},
   "outputs": [
    {
     "name": "stdout",
     "output_type": "stream",
     "text": [
      "[[4.]]\n"
     ]
    }
   ],
   "source": [
    "from sklearn.pipeline import Pipeline\n",
    "\n",
    "def isolate():\n",
    "    X_train = [[60],\n",
    "               [70]]\n",
    "\n",
    "    pipe = Pipeline(steps=[\n",
    "        ('scaler', MinMaxScaler())\n",
    "    ])\n",
    "\n",
    "    pipe.fit(X=X_train)\n",
    "\n",
    "    print(pipe.transform([[100]]))\n",
    "\n",
    "isolate()"
   ]
  },
  {
   "cell_type": "code",
   "execution_count": 31,
   "metadata": {},
   "outputs": [
    {
     "name": "stdout",
     "output_type": "stream",
     "text": [
      "[[1.         1.14285714]]\n"
     ]
    }
   ],
   "source": [
    "from sklearn.pipeline import Pipeline\n",
    "from sklearn.compose import ColumnTransformer\n",
    "from sklearn.impute import SimpleImputer\n",
    "from sklearn.base import _OneToOneFeatureMixin, TransformerMixin, BaseEstimator\n",
    "import numpy as np\n",
    "\n",
    "def isolate():\n",
    "    X_train = [[60, 10],\n",
    "               [70, 20],\n",
    "               [60, 70],\n",
    "               [70, 80]]\n",
    "    \n",
    "    class PercentageScaler(_OneToOneFeatureMixin, TransformerMixin, BaseEstimator):\n",
    "        def __init__(self) -> None:\n",
    "            super().__init__()\n",
    "        \n",
    "        def fit(self, X, y=None):\n",
    "            return self\n",
    "        \n",
    "        def transform(self, X):\n",
    "            return np.array(X) / 100\n",
    "\n",
    "    percent_transformer = Pipeline(steps=[\n",
    "        ('imputer', SimpleImputer(strategy='median')),\n",
    "        ('scaler', PercentageScaler())\n",
    "    ])\n",
    "\n",
    "    num_transformer = Pipeline(steps=[\n",
    "        ('imputer', SimpleImputer(strategy='median')),\n",
    "        ('scaler', MinMaxScaler())\n",
    "    ])\n",
    "\n",
    "    transformers = ColumnTransformer(transformers=[\n",
    "        ('percent', percent_transformer, [0]),\n",
    "        ('num', num_transformer, [1])\n",
    "    ])\n",
    "\n",
    "    transformers.fit(X=X_train)\n",
    "\n",
    "    print(transformers.transform([[100, 90]]))\n",
    "\n",
    "isolate()"
   ]
  }
 ],
 "metadata": {
  "kernelspec": {
   "display_name": "Python 3.10.8 64-bit",
   "language": "python",
   "name": "python3"
  },
  "language_info": {
   "codemirror_mode": {
    "name": "ipython",
    "version": 3
   },
   "file_extension": ".py",
   "mimetype": "text/x-python",
   "name": "python",
   "nbconvert_exporter": "python",
   "pygments_lexer": "ipython3",
   "version": "3.10.8"
  },
  "orig_nbformat": 4,
  "vscode": {
   "interpreter": {
    "hash": "aee8b7b246df8f9039afb4144a1f6fd8d2ca17a180786b69acc140d282b71a49"
   }
  }
 },
 "nbformat": 4,
 "nbformat_minor": 2
}
