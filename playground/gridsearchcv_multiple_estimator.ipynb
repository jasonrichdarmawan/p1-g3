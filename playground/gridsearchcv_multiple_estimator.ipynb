{
 "cells": [
  {
   "cell_type": "code",
   "execution_count": 2,
   "metadata": {},
   "outputs": [],
   "source": [
    "from numpy import loadtxt\n",
    "from xgboost import XGBClassifier\n",
    "from sklearn.ensemble import RandomForestClassifier, AdaBoostClassifier\n",
    "from sklearn.model_selection import train_test_split, GridSearchCV\n",
    "from sklearn.pipeline import Pipeline\n",
    "from sklearn.base import BaseEstimator\n",
    "from sklearn.metrics import accuracy_score"
   ]
  },
  {
   "cell_type": "code",
   "execution_count": 3,
   "metadata": {},
   "outputs": [
    {
     "data": {
      "text/plain": [
       "array([[  6.   , 148.   ,  72.   , ...,   0.627,  50.   ,   1.   ],\n",
       "       [  1.   ,  85.   ,  66.   , ...,   0.351,  31.   ,   0.   ],\n",
       "       [  8.   , 183.   ,  64.   , ...,   0.672,  32.   ,   1.   ],\n",
       "       ...,\n",
       "       [  5.   , 121.   ,  72.   , ...,   0.245,  30.   ,   0.   ],\n",
       "       [  1.   , 126.   ,  60.   , ...,   0.349,  47.   ,   1.   ],\n",
       "       [  1.   ,  93.   ,  70.   , ...,   0.315,  23.   ,   0.   ]])"
      ]
     },
     "execution_count": 3,
     "metadata": {},
     "output_type": "execute_result"
    }
   ],
   "source": [
    "# load data\n",
    "dataset = loadtxt('pima-indians-diabetes.csv', delimiter=\",\")\n",
    "dataset"
   ]
  },
  {
   "cell_type": "code",
   "execution_count": 4,
   "metadata": {},
   "outputs": [
    {
     "data": {
      "text/plain": [
       "((768, 8), (768,))"
      ]
     },
     "execution_count": 4,
     "metadata": {},
     "output_type": "execute_result"
    }
   ],
   "source": [
    "# split data into X and y\n",
    "X = dataset[:,0:8]\n",
    "Y = dataset[:,8]\n",
    "X.shape, Y.shape"
   ]
  },
  {
   "cell_type": "code",
   "execution_count": 5,
   "metadata": {},
   "outputs": [],
   "source": [
    "# split data into train and test sets\n",
    "seed = 7\n",
    "test_size = 0.33\n",
    "X_train, X_test, y_train, y_test = train_test_split(X, Y, test_size=test_size, random_state=seed)"
   ]
  },
  {
   "cell_type": "code",
   "execution_count": 6,
   "metadata": {},
   "outputs": [
    {
     "name": "stdout",
     "output_type": "stream",
     "text": [
      "Accuracy: 74.02%\n"
     ]
    }
   ],
   "source": [
    "def isolate():\n",
    "    # fit model no training data\n",
    "    xgb_clf = XGBClassifier()\n",
    "    xgb_clf.fit(X_train, y_train)\n",
    "\n",
    "    # make predictions for test data\n",
    "    y_pred = xgb_clf.predict(X_test)\n",
    "\n",
    "    # evaluate predictions\n",
    "    accuracy = accuracy_score(y_test, y_pred)\n",
    "    print(\"Accuracy: %.2f%%\" % (accuracy * 100.0))\n",
    "\n",
    "isolate()"
   ]
  },
  {
   "cell_type": "code",
   "execution_count": 7,
   "metadata": {},
   "outputs": [
    {
     "name": "stdout",
     "output_type": "stream",
     "text": [
      "Accuracy: 77.17%\n"
     ]
    }
   ],
   "source": [
    "def isolate():\n",
    "    # fit model no training data\n",
    "    rf_clf = RandomForestClassifier(random_state=17)\n",
    "    rf_clf.fit(X_train, y_train)\n",
    "\n",
    "    # make predictions for test data\n",
    "    y_pred = rf_clf.predict(X_test)\n",
    "\n",
    "    # evaluate predictions\n",
    "    accuracy = accuracy_score(y_test, y_pred)\n",
    "    print(\"Accuracy: %.2f%%\" % (accuracy * 100.0))\n",
    "\n",
    "isolate()"
   ]
  },
  {
   "cell_type": "code",
   "execution_count": 8,
   "metadata": {},
   "outputs": [
    {
     "name": "stdout",
     "output_type": "stream",
     "text": [
      "Accuracy: 72.44%\n"
     ]
    }
   ],
   "source": [
    "def isolate():\n",
    "    # fit model no training data\n",
    "    ab_clf = AdaBoostClassifier(random_state=17)\n",
    "    ab_clf.fit(X_train, y_train)\n",
    "\n",
    "    # make predictions for test data\n",
    "    y_pred = ab_clf.predict(X_test)\n",
    "\n",
    "    # evaluate predictions\n",
    "    accuracy = accuracy_score(y_test, y_pred)\n",
    "    print(\"Accuracy: %.2f%%\" % (accuracy * 100.0))\n",
    "\n",
    "isolate()"
   ]
  },
  {
   "cell_type": "code",
   "execution_count": 9,
   "metadata": {},
   "outputs": [
    {
     "name": "stdout",
     "output_type": "stream",
     "text": [
      "Pipeline(steps=[('clf', RandomForestClassifier(n_estimators=130))])\n",
      "Accuracy: 75.67%\n",
      "{'mean_fit_time': array([0.07287035, 0.08118114, 0.09069028, 0.04184036, 0.05037961,\n",
      "       0.05903792, 0.03806953, 0.053548  , 0.06744938]), 'std_fit_time': array([0.02308397, 0.01794632, 0.01989827, 0.00061985, 0.00079203,\n",
      "       0.00014079, 0.00161534, 0.00238485, 0.00065202]), 'mean_score_time': array([0.00093837, 0.0012044 , 0.00102692, 0.00295043, 0.00351319,\n",
      "       0.00410094, 0.00236769, 0.00307064, 0.00398192]), 'std_score_time': array([2.48886159e-05, 2.70265042e-04, 1.20281301e-04, 5.99725811e-05,\n",
      "       8.27675308e-05, 6.77227292e-05, 9.31688315e-05, 5.25104458e-05,\n",
      "       1.41247392e-04]), 'param_clf': masked_array(data=[XGBClassifier(base_score=None, booster=None, callbacks=None,\n",
      "                                 colsample_bylevel=None, colsample_bynode=None,\n",
      "                                 colsample_bytree=None, early_stopping_rounds=None,\n",
      "                                 enable_categorical=False, eval_metric=None, feature_types=None,\n",
      "                                 gamma=None, gpu_id=None, grow_policy=None, importance_type=None,\n",
      "                                 interaction_constraints=None, learning_rate=None, max_bin=None,\n",
      "                                 max_cat_threshold=None, max_cat_to_onehot=None,\n",
      "                                 max_delta_step=None, max_depth=None, max_leaves=None,\n",
      "                                 min_child_weight=None, missing=nan, monotone_constraints=None,\n",
      "                                 n_estimators=100, n_jobs=None, num_parallel_tree=None,\n",
      "                                 predictor=None, random_state=None, ...)                         ,\n",
      "                   XGBClassifier(base_score=None, booster=None, callbacks=None,\n",
      "                                 colsample_bylevel=None, colsample_bynode=None,\n",
      "                                 colsample_bytree=None, early_stopping_rounds=None,\n",
      "                                 enable_categorical=False, eval_metric=None, feature_types=None,\n",
      "                                 gamma=None, gpu_id=None, grow_policy=None, importance_type=None,\n",
      "                                 interaction_constraints=None, learning_rate=None, max_bin=None,\n",
      "                                 max_cat_threshold=None, max_cat_to_onehot=None,\n",
      "                                 max_delta_step=None, max_depth=None, max_leaves=None,\n",
      "                                 min_child_weight=None, missing=nan, monotone_constraints=None,\n",
      "                                 n_estimators=100, n_jobs=None, num_parallel_tree=None,\n",
      "                                 predictor=None, random_state=None, ...)                         ,\n",
      "                   XGBClassifier(base_score=None, booster=None, callbacks=None,\n",
      "                                 colsample_bylevel=None, colsample_bynode=None,\n",
      "                                 colsample_bytree=None, early_stopping_rounds=None,\n",
      "                                 enable_categorical=False, eval_metric=None, feature_types=None,\n",
      "                                 gamma=None, gpu_id=None, grow_policy=None, importance_type=None,\n",
      "                                 interaction_constraints=None, learning_rate=None, max_bin=None,\n",
      "                                 max_cat_threshold=None, max_cat_to_onehot=None,\n",
      "                                 max_delta_step=None, max_depth=None, max_leaves=None,\n",
      "                                 min_child_weight=None, missing=nan, monotone_constraints=None,\n",
      "                                 n_estimators=100, n_jobs=None, num_parallel_tree=None,\n",
      "                                 predictor=None, random_state=None, ...)                         ,\n",
      "                   AdaBoostClassifier(), AdaBoostClassifier(),\n",
      "                   AdaBoostClassifier(),\n",
      "                   RandomForestClassifier(n_estimators=130),\n",
      "                   RandomForestClassifier(n_estimators=130),\n",
      "                   RandomForestClassifier(n_estimators=130)],\n",
      "             mask=[False, False, False, False, False, False, False, False,\n",
      "                   False],\n",
      "       fill_value='?',\n",
      "            dtype=object), 'param_clf__n_estimators': masked_array(data=[90, 100, 110, 80, 100, 120, 70, 100, 130],\n",
      "             mask=[False, False, False, False, False, False, False, False,\n",
      "                   False],\n",
      "       fill_value='?',\n",
      "            dtype=object), 'params': [{'clf': XGBClassifier(base_score=None, booster=None, callbacks=None,\n",
      "              colsample_bylevel=None, colsample_bynode=None,\n",
      "              colsample_bytree=None, early_stopping_rounds=None,\n",
      "              enable_categorical=False, eval_metric=None, feature_types=None,\n",
      "              gamma=None, gpu_id=None, grow_policy=None, importance_type=None,\n",
      "              interaction_constraints=None, learning_rate=None, max_bin=None,\n",
      "              max_cat_threshold=None, max_cat_to_onehot=None,\n",
      "              max_delta_step=None, max_depth=None, max_leaves=None,\n",
      "              min_child_weight=None, missing=nan, monotone_constraints=None,\n",
      "              n_estimators=100, n_jobs=None, num_parallel_tree=None,\n",
      "              predictor=None, random_state=None, ...), 'clf__n_estimators': 90}, {'clf': XGBClassifier(base_score=None, booster=None, callbacks=None,\n",
      "              colsample_bylevel=None, colsample_bynode=None,\n",
      "              colsample_bytree=None, early_stopping_rounds=None,\n",
      "              enable_categorical=False, eval_metric=None, feature_types=None,\n",
      "              gamma=None, gpu_id=None, grow_policy=None, importance_type=None,\n",
      "              interaction_constraints=None, learning_rate=None, max_bin=None,\n",
      "              max_cat_threshold=None, max_cat_to_onehot=None,\n",
      "              max_delta_step=None, max_depth=None, max_leaves=None,\n",
      "              min_child_weight=None, missing=nan, monotone_constraints=None,\n",
      "              n_estimators=100, n_jobs=None, num_parallel_tree=None,\n",
      "              predictor=None, random_state=None, ...), 'clf__n_estimators': 100}, {'clf': XGBClassifier(base_score=None, booster=None, callbacks=None,\n",
      "              colsample_bylevel=None, colsample_bynode=None,\n",
      "              colsample_bytree=None, early_stopping_rounds=None,\n",
      "              enable_categorical=False, eval_metric=None, feature_types=None,\n",
      "              gamma=None, gpu_id=None, grow_policy=None, importance_type=None,\n",
      "              interaction_constraints=None, learning_rate=None, max_bin=None,\n",
      "              max_cat_threshold=None, max_cat_to_onehot=None,\n",
      "              max_delta_step=None, max_depth=None, max_leaves=None,\n",
      "              min_child_weight=None, missing=nan, monotone_constraints=None,\n",
      "              n_estimators=100, n_jobs=None, num_parallel_tree=None,\n",
      "              predictor=None, random_state=None, ...), 'clf__n_estimators': 110}, {'clf': AdaBoostClassifier(), 'clf__n_estimators': 80}, {'clf': AdaBoostClassifier(), 'clf__n_estimators': 100}, {'clf': AdaBoostClassifier(), 'clf__n_estimators': 120}, {'clf': RandomForestClassifier(n_estimators=130), 'clf__n_estimators': 70}, {'clf': RandomForestClassifier(n_estimators=130), 'clf__n_estimators': 100}, {'clf': RandomForestClassifier(n_estimators=130), 'clf__n_estimators': 130}], 'split0_test_score': array([0.76699029, 0.76699029, 0.76699029, 0.77669903, 0.7961165 ,\n",
      "       0.76699029, 0.76699029, 0.76699029, 0.76699029]), 'split1_test_score': array([0.73786408, 0.72815534, 0.73786408, 0.75728155, 0.74757282,\n",
      "       0.7184466 , 0.76699029, 0.7961165 , 0.78640777]), 'split2_test_score': array([0.66990291, 0.66990291, 0.66990291, 0.67961165, 0.67961165,\n",
      "       0.65048544, 0.68932039, 0.69902913, 0.7184466 ]), 'split3_test_score': array([0.77669903, 0.78640777, 0.78640777, 0.80582524, 0.74757282,\n",
      "       0.76699029, 0.80582524, 0.78640777, 0.81553398]), 'split4_test_score': array([0.66666667, 0.66666667, 0.66666667, 0.70588235, 0.69607843,\n",
      "       0.69607843, 0.68627451, 0.69607843, 0.69607843]), 'mean_test_score': array([0.7236246 , 0.7236246 , 0.72556634, 0.74505997, 0.73339044,\n",
      "       0.71979821, 0.74308014, 0.74892442, 0.75669141]), 'std_test_score': array([0.04696907, 0.04893478, 0.04926753, 0.04617615, 0.04152393,\n",
      "       0.04432358, 0.04732299, 0.04299002, 0.04379081]), 'rank_test_score': array([7, 7, 6, 3, 5, 9, 4, 2, 1], dtype=int32)}\n"
     ]
    }
   ],
   "source": [
    "def isolate():\n",
    "    xgb_clf = XGBClassifier()\n",
    "    ada_clf = AdaBoostClassifier()\n",
    "    rf_clf = RandomForestClassifier()\n",
    "\n",
    "    class DummyEstimator(BaseEstimator):\n",
    "        def fit(self): pass\n",
    "        def score(self): pass\n",
    "\n",
    "    pipe = Pipeline(steps=[\n",
    "        ('clf', DummyEstimator())\n",
    "    ])\n",
    "\n",
    "    cv = GridSearchCV(estimator=pipe, \n",
    "                      param_grid=[\n",
    "                        {'clf': [xgb_clf],\n",
    "                         'clf__n_estimators': [90, 100, 110]},\n",
    "                        {'clf': [ada_clf],\n",
    "                         'clf__n_estimators': [80, 100, 120]},\n",
    "                        {'clf': [rf_clf],\n",
    "                         'clf__n_estimators': [70, 100, 130]}\n",
    "                      ])\n",
    "    cv.fit(X_train, y_train)\n",
    "\n",
    "    print(cv.best_estimator_)\n",
    "    print(\"Accuracy: %.2f%%\" % (cv.best_score_ * 100.0))\n",
    "\n",
    "isolate()"
   ]
  }
 ],
 "metadata": {
  "kernelspec": {
   "display_name": "Python 3.10.8 64-bit",
   "language": "python",
   "name": "python3"
  },
  "language_info": {
   "codemirror_mode": {
    "name": "ipython",
    "version": 3
   },
   "file_extension": ".py",
   "mimetype": "text/x-python",
   "name": "python",
   "nbconvert_exporter": "python",
   "pygments_lexer": "ipython3",
   "version": "3.10.8"
  },
  "orig_nbformat": 4,
  "vscode": {
   "interpreter": {
    "hash": "aee8b7b246df8f9039afb4144a1f6fd8d2ca17a180786b69acc140d282b71a49"
   }
  }
 },
 "nbformat": 4,
 "nbformat_minor": 2
}
